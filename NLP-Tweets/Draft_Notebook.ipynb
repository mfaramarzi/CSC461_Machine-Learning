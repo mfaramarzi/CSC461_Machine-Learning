{
  "nbformat": 4,
  "nbformat_minor": 0,
  "metadata": {
    "colab": {
      "name": "Copy_2_NLP_Proj.ipynb",
      "provenance": [],
      "collapsed_sections": []
    },
    "kernelspec": {
      "name": "python3",
      "display_name": "Python 3"
    },
    "language_info": {
      "name": "python"
    },
    "accelerator": "GPU"
  },
  "cells": [
    {
      "cell_type": "markdown",
      "metadata": {
        "id": "NNd5E3YDgf5O"
      },
      "source": [
        "# Ideas\n",
        "We can use synword tokenization and compare to word tokenization?"
      ]
    },
    {
      "cell_type": "markdown",
      "metadata": {
        "id": "KSt-lqXpjvQ8"
      },
      "source": [
        "# Colab Setup"
      ]
    },
    {
      "cell_type": "code",
      "metadata": {
        "colab": {
          "base_uri": "https://localhost:8080/"
        },
        "id": "EiYmyQbeaF17",
        "outputId": "be349217-f2df-4d0c-9eba-98a1eb3aa507"
      },
      "source": [
        "    from google.colab import drive\n",
        "    drive.mount('/content/drive')\n",
        " "
      ],
      "execution_count": null,
      "outputs": [
        {
          "output_type": "stream",
          "name": "stdout",
          "text": [
            "Drive already mounted at /content/drive; to attempt to forcibly remount, call drive.mount(\"/content/drive\", force_remount=True).\n"
          ]
        }
      ]
    },
    {
      "cell_type": "markdown",
      "metadata": {
        "id": "noQy6YW0X4yy"
      },
      "source": [
        "# Importing Libraries"
      ]
    },
    {
      "cell_type": "code",
      "metadata": {
        "colab": {
          "base_uri": "https://localhost:8080/"
        },
        "id": "U_yE8gnYYE05",
        "outputId": "b0993190-aed4-413e-a395-a3d62fde0c40"
      },
      "source": [
        "#hide\n",
        "!pip install -Uqq fastbook\n",
        "import fastbook\n",
        "fastbook.setup_book()"
      ],
      "execution_count": null,
      "outputs": [
        {
          "output_type": "stream",
          "name": "stdout",
          "text": [
            "\u001b[K     |████████████████████████████████| 720 kB 5.4 MB/s \n",
            "\u001b[K     |████████████████████████████████| 46 kB 4.2 MB/s \n",
            "\u001b[K     |████████████████████████████████| 189 kB 47.3 MB/s \n",
            "\u001b[K     |████████████████████████████████| 1.2 MB 36.4 MB/s \n",
            "\u001b[K     |████████████████████████████████| 56 kB 4.5 MB/s \n",
            "\u001b[K     |████████████████████████████████| 51 kB 339 kB/s \n",
            "\u001b[?25hMounted at /content/gdrive\n"
          ]
        }
      ]
    },
    {
      "cell_type": "code",
      "metadata": {
        "id": "-75ky-ZwYLvV"
      },
      "source": [
        "from fastbook import *\n",
        "from IPython.display import display,HTML"
      ],
      "execution_count": null,
      "outputs": []
    },
    {
      "cell_type": "markdown",
      "metadata": {
        "id": "NXm8aNzVUx-n"
      },
      "source": [
        "# Reading dataset"
      ]
    },
    {
      "cell_type": "markdown",
      "metadata": {
        "id": "wrj1VWxMj3Ql"
      },
      "source": [
        "## Read Vaccin Dataset"
      ]
    },
    {
      "cell_type": "code",
      "metadata": {
        "id": "_4-CV1U2aUEe"
      },
      "source": [
        "#Path to my data files\n",
        "path_vax = \"/content/gdrive/MyDrive/CSC461/Max-Drafts/data_set/vaccination_all_tweets.csv\"\n",
        "\n",
        "vax_tweets = pd.read_csv(path_vax)\n"
      ],
      "execution_count": null,
      "outputs": []
    },
    {
      "cell_type": "markdown",
      "metadata": {
        "id": "SrAcjXI9j8aT"
      },
      "source": [
        "## Read Tweet Dataset"
      ]
    },
    {
      "cell_type": "code",
      "metadata": {
        "id": "xF222QSuj_eD"
      },
      "source": [
        "#Path to my data files\n",
        "path_tweets = \"/content/gdrive/MyDrive/CSC461/Max-Drafts/data_set/tweet_dataset.csv\"\n",
        "\n",
        "tweets = pd.read_csv(path_tweets)\n"
      ],
      "execution_count": null,
      "outputs": []
    },
    {
      "cell_type": "markdown",
      "metadata": {
        "id": "KFInSmHAU5Tl"
      },
      "source": [
        "# EDA\n"
      ]
    },
    {
      "cell_type": "markdown",
      "metadata": {
        "id": "J5lW5Y2eVk4O"
      },
      "source": [
        "## Number of Samples and Features"
      ]
    },
    {
      "cell_type": "code",
      "metadata": {
        "id": "I8byz9rram4s",
        "colab": {
          "base_uri": "https://localhost:8080/"
        },
        "outputId": "431ed6ed-7f51-420a-dd7f-1bada06ae0b4"
      },
      "source": [
        "tweets.shape"
      ],
      "execution_count": null,
      "outputs": [
        {
          "output_type": "execute_result",
          "data": {
            "text/plain": [
              "(40000, 8)"
            ]
          },
          "metadata": {},
          "execution_count": 7
        }
      ]
    },
    {
      "cell_type": "code",
      "metadata": {
        "colab": {
          "base_uri": "https://localhost:8080/"
        },
        "id": "YM8_q3u1UlQc",
        "outputId": "c847a6ff-635c-4883-c010-56d04ebc3d16"
      },
      "source": [
        "vax_tweets.shape"
      ],
      "execution_count": null,
      "outputs": [
        {
          "output_type": "execute_result",
          "data": {
            "text/plain": [
              "(212982, 16)"
            ]
          },
          "metadata": {},
          "execution_count": 8
        }
      ]
    },
    {
      "cell_type": "markdown",
      "metadata": {
        "id": "cSeKah8LXDOd"
      },
      "source": [
        "## Dataset Structure"
      ]
    },
    {
      "cell_type": "code",
      "metadata": {
        "id": "kbhPIkrUn-r_",
        "colab": {
          "base_uri": "https://localhost:8080/",
          "height": 678
        },
        "outputId": "d24c7af6-10aa-4245-924b-f366f8ce7b67"
      },
      "source": [
        "vax_tweets.head()"
      ],
      "execution_count": null,
      "outputs": [
        {
          "output_type": "execute_result",
          "data": {
            "text/html": [
              "<div>\n",
              "<style scoped>\n",
              "    .dataframe tbody tr th:only-of-type {\n",
              "        vertical-align: middle;\n",
              "    }\n",
              "\n",
              "    .dataframe tbody tr th {\n",
              "        vertical-align: top;\n",
              "    }\n",
              "\n",
              "    .dataframe thead th {\n",
              "        text-align: right;\n",
              "    }\n",
              "</style>\n",
              "<table border=\"1\" class=\"dataframe\">\n",
              "  <thead>\n",
              "    <tr style=\"text-align: right;\">\n",
              "      <th></th>\n",
              "      <th>id</th>\n",
              "      <th>user_name</th>\n",
              "      <th>user_location</th>\n",
              "      <th>user_description</th>\n",
              "      <th>user_created</th>\n",
              "      <th>user_followers</th>\n",
              "      <th>user_friends</th>\n",
              "      <th>user_favourites</th>\n",
              "      <th>user_verified</th>\n",
              "      <th>date</th>\n",
              "      <th>text</th>\n",
              "      <th>hashtags</th>\n",
              "      <th>source</th>\n",
              "      <th>retweets</th>\n",
              "      <th>favorites</th>\n",
              "      <th>is_retweet</th>\n",
              "    </tr>\n",
              "  </thead>\n",
              "  <tbody>\n",
              "    <tr>\n",
              "      <th>0</th>\n",
              "      <td>1340539111971516416</td>\n",
              "      <td>Rachel Roh</td>\n",
              "      <td>La Crescenta-Montrose, CA</td>\n",
              "      <td>Aggregator of Asian American news; scanning diverse sources 24/7/365. RT's, Follows and 'Likes' will fuel me 👩‍💻</td>\n",
              "      <td>2009-04-08 17:52:46</td>\n",
              "      <td>405</td>\n",
              "      <td>1692</td>\n",
              "      <td>3247</td>\n",
              "      <td>False</td>\n",
              "      <td>2020-12-20 06:06:44</td>\n",
              "      <td>Same folks said daikon paste could treat a cytokine storm #PfizerBioNTech https://t.co/xeHhIMg1kF</td>\n",
              "      <td>['PfizerBioNTech']</td>\n",
              "      <td>Twitter for Android</td>\n",
              "      <td>0</td>\n",
              "      <td>0</td>\n",
              "      <td>False</td>\n",
              "    </tr>\n",
              "    <tr>\n",
              "      <th>1</th>\n",
              "      <td>1338158543359250433</td>\n",
              "      <td>Albert Fong</td>\n",
              "      <td>San Francisco, CA</td>\n",
              "      <td>Marketing dude, tech geek, heavy metal &amp; '80s music junkie. Fascinated by meteorology and all things in the cloud. Opinions are my own.</td>\n",
              "      <td>2009-09-21 15:27:30</td>\n",
              "      <td>834</td>\n",
              "      <td>666</td>\n",
              "      <td>178</td>\n",
              "      <td>False</td>\n",
              "      <td>2020-12-13 16:27:13</td>\n",
              "      <td>While the world has been on the wrong side of history this year, hopefully, the biggest vaccination effort we've ev… https://t.co/dlCHrZjkhm</td>\n",
              "      <td>NaN</td>\n",
              "      <td>Twitter Web App</td>\n",
              "      <td>1</td>\n",
              "      <td>1</td>\n",
              "      <td>False</td>\n",
              "    </tr>\n",
              "    <tr>\n",
              "      <th>2</th>\n",
              "      <td>1337858199140118533</td>\n",
              "      <td>eli🇱🇹🇪🇺👌</td>\n",
              "      <td>Your Bed</td>\n",
              "      <td>heil, hydra 🖐☺</td>\n",
              "      <td>2020-06-25 23:30:28</td>\n",
              "      <td>10</td>\n",
              "      <td>88</td>\n",
              "      <td>155</td>\n",
              "      <td>False</td>\n",
              "      <td>2020-12-12 20:33:45</td>\n",
              "      <td>#coronavirus #SputnikV #AstraZeneca #PfizerBioNTech #Moderna #Covid_19 Russian vaccine is created to last 2-4 years… https://t.co/ieYlCKBr8P</td>\n",
              "      <td>['coronavirus', 'SputnikV', 'AstraZeneca', 'PfizerBioNTech', 'Moderna', 'Covid_19']</td>\n",
              "      <td>Twitter for Android</td>\n",
              "      <td>0</td>\n",
              "      <td>0</td>\n",
              "      <td>False</td>\n",
              "    </tr>\n",
              "    <tr>\n",
              "      <th>3</th>\n",
              "      <td>1337855739918835717</td>\n",
              "      <td>Charles Adler</td>\n",
              "      <td>Vancouver, BC - Canada</td>\n",
              "      <td>Hosting \"CharlesAdlerTonight\" Global News Radio Network. Weeknights 7 Pacific-10 Eastern - Email comments/ideas to charles@charlesadlertonight.ca</td>\n",
              "      <td>2008-09-10 11:28:53</td>\n",
              "      <td>49165</td>\n",
              "      <td>3933</td>\n",
              "      <td>21853</td>\n",
              "      <td>True</td>\n",
              "      <td>2020-12-12 20:23:59</td>\n",
              "      <td>Facts are immutable, Senator, even when you're not ethically sturdy enough to acknowledge them. (1) You were born i… https://t.co/jqgV18kch4</td>\n",
              "      <td>NaN</td>\n",
              "      <td>Twitter Web App</td>\n",
              "      <td>446</td>\n",
              "      <td>2129</td>\n",
              "      <td>False</td>\n",
              "    </tr>\n",
              "    <tr>\n",
              "      <th>4</th>\n",
              "      <td>1337854064604966912</td>\n",
              "      <td>Citizen News Channel</td>\n",
              "      <td>NaN</td>\n",
              "      <td>Citizen News Channel bringing you an alternative news source from citizen journalists that haven't sold out. Real news &amp; real views</td>\n",
              "      <td>2020-04-23 17:58:42</td>\n",
              "      <td>152</td>\n",
              "      <td>580</td>\n",
              "      <td>1473</td>\n",
              "      <td>False</td>\n",
              "      <td>2020-12-12 20:17:19</td>\n",
              "      <td>Explain to me again why we need a vaccine @BorisJohnson @MattHancock #whereareallthesickpeople #PfizerBioNTech… https://t.co/KxbSRoBEHq</td>\n",
              "      <td>['whereareallthesickpeople', 'PfizerBioNTech']</td>\n",
              "      <td>Twitter for iPhone</td>\n",
              "      <td>0</td>\n",
              "      <td>0</td>\n",
              "      <td>False</td>\n",
              "    </tr>\n",
              "  </tbody>\n",
              "</table>\n",
              "</div>"
            ],
            "text/plain": [
              "                    id             user_name              user_location  \\\n",
              "0  1340539111971516416            Rachel Roh  La Crescenta-Montrose, CA   \n",
              "1  1338158543359250433           Albert Fong          San Francisco, CA   \n",
              "2  1337858199140118533              eli🇱🇹🇪🇺👌                   Your Bed   \n",
              "3  1337855739918835717         Charles Adler     Vancouver, BC - Canada   \n",
              "4  1337854064604966912  Citizen News Channel                        NaN   \n",
              "\n",
              "                                                                                                                                    user_description  \\\n",
              "0                                   Aggregator of Asian American news; scanning diverse sources 24/7/365. RT's, Follows and 'Likes' will fuel me 👩‍💻   \n",
              "1            Marketing dude, tech geek, heavy metal & '80s music junkie. Fascinated by meteorology and all things in the cloud. Opinions are my own.   \n",
              "2                                                                                                                                     heil, hydra 🖐☺   \n",
              "3  Hosting \"CharlesAdlerTonight\" Global News Radio Network. Weeknights 7 Pacific-10 Eastern - Email comments/ideas to charles@charlesadlertonight.ca   \n",
              "4                Citizen News Channel bringing you an alternative news source from citizen journalists that haven't sold out. Real news & real views   \n",
              "\n",
              "          user_created  user_followers  user_friends  user_favourites  \\\n",
              "0  2009-04-08 17:52:46             405          1692             3247   \n",
              "1  2009-09-21 15:27:30             834           666              178   \n",
              "2  2020-06-25 23:30:28              10            88              155   \n",
              "3  2008-09-10 11:28:53           49165          3933            21853   \n",
              "4  2020-04-23 17:58:42             152           580             1473   \n",
              "\n",
              "   user_verified                 date  \\\n",
              "0          False  2020-12-20 06:06:44   \n",
              "1          False  2020-12-13 16:27:13   \n",
              "2          False  2020-12-12 20:33:45   \n",
              "3           True  2020-12-12 20:23:59   \n",
              "4          False  2020-12-12 20:17:19   \n",
              "\n",
              "                                                                                                                                           text  \\\n",
              "0                                             Same folks said daikon paste could treat a cytokine storm #PfizerBioNTech https://t.co/xeHhIMg1kF   \n",
              "1  While the world has been on the wrong side of history this year, hopefully, the biggest vaccination effort we've ev… https://t.co/dlCHrZjkhm   \n",
              "2  #coronavirus #SputnikV #AstraZeneca #PfizerBioNTech #Moderna #Covid_19 Russian vaccine is created to last 2-4 years… https://t.co/ieYlCKBr8P   \n",
              "3  Facts are immutable, Senator, even when you're not ethically sturdy enough to acknowledge them. (1) You were born i… https://t.co/jqgV18kch4   \n",
              "4       Explain to me again why we need a vaccine @BorisJohnson @MattHancock #whereareallthesickpeople #PfizerBioNTech… https://t.co/KxbSRoBEHq   \n",
              "\n",
              "                                                                              hashtags  \\\n",
              "0                                                                   ['PfizerBioNTech']   \n",
              "1                                                                                  NaN   \n",
              "2  ['coronavirus', 'SputnikV', 'AstraZeneca', 'PfizerBioNTech', 'Moderna', 'Covid_19']   \n",
              "3                                                                                  NaN   \n",
              "4                                       ['whereareallthesickpeople', 'PfizerBioNTech']   \n",
              "\n",
              "                source  retweets  favorites  is_retweet  \n",
              "0  Twitter for Android         0          0       False  \n",
              "1      Twitter Web App         1          1       False  \n",
              "2  Twitter for Android         0          0       False  \n",
              "3      Twitter Web App       446       2129       False  \n",
              "4   Twitter for iPhone         0          0       False  "
            ]
          },
          "metadata": {},
          "execution_count": 9
        }
      ]
    },
    {
      "cell_type": "code",
      "metadata": {
        "id": "9VE5to1oU2oh",
        "colab": {
          "base_uri": "https://localhost:8080/",
          "height": 258
        },
        "outputId": "55a4d90e-8121-43da-bfcd-7a0f53f0c69c"
      },
      "source": [
        "tweets.head()"
      ],
      "execution_count": null,
      "outputs": [
        {
          "output_type": "execute_result",
          "data": {
            "text/html": [
              "<div>\n",
              "<style scoped>\n",
              "    .dataframe tbody tr th:only-of-type {\n",
              "        vertical-align: middle;\n",
              "    }\n",
              "\n",
              "    .dataframe tbody tr th {\n",
              "        vertical-align: top;\n",
              "    }\n",
              "\n",
              "    .dataframe thead th {\n",
              "        text-align: right;\n",
              "    }\n",
              "</style>\n",
              "<table border=\"1\" class=\"dataframe\">\n",
              "  <thead>\n",
              "    <tr style=\"text-align: right;\">\n",
              "      <th></th>\n",
              "      <th>textID</th>\n",
              "      <th>sentiment</th>\n",
              "      <th>author</th>\n",
              "      <th>text</th>\n",
              "      <th>old_text</th>\n",
              "      <th>aux_id</th>\n",
              "      <th>new_sentiment</th>\n",
              "      <th>selected_text</th>\n",
              "    </tr>\n",
              "  </thead>\n",
              "  <tbody>\n",
              "    <tr>\n",
              "      <th>0</th>\n",
              "      <td>1956967341</td>\n",
              "      <td>empty</td>\n",
              "      <td>xoshayzers</td>\n",
              "      <td>i know  i was listenin to bad habit earlier and i started freakin at his part =[</td>\n",
              "      <td>@tiffanylue i know  i was listenin to bad habit earlier and i started freakin at his part =[</td>\n",
              "      <td>p1000000000</td>\n",
              "      <td>NaN</td>\n",
              "      <td>NaN</td>\n",
              "    </tr>\n",
              "    <tr>\n",
              "      <th>1</th>\n",
              "      <td>1956967666</td>\n",
              "      <td>sadness</td>\n",
              "      <td>wannamama</td>\n",
              "      <td>Layin n bed with a headache  ughhhh...waitin on your call...</td>\n",
              "      <td>Layin n bed with a headache  ughhhh...waitin on your call...</td>\n",
              "      <td>c811396dc2</td>\n",
              "      <td>negative</td>\n",
              "      <td>headache</td>\n",
              "    </tr>\n",
              "    <tr>\n",
              "      <th>2</th>\n",
              "      <td>1956967696</td>\n",
              "      <td>sadness</td>\n",
              "      <td>coolfunky</td>\n",
              "      <td>Funeral ceremony...gloomy friday...</td>\n",
              "      <td>Funeral ceremony...gloomy friday...</td>\n",
              "      <td>9063631ab1</td>\n",
              "      <td>negative</td>\n",
              "      <td>gloomy</td>\n",
              "    </tr>\n",
              "    <tr>\n",
              "      <th>3</th>\n",
              "      <td>1956967789</td>\n",
              "      <td>enthusiasm</td>\n",
              "      <td>czareaquino</td>\n",
              "      <td>wants to hang out with friends SOON!</td>\n",
              "      <td>wants to hang out with friends SOON!</td>\n",
              "      <td>2a815f151d</td>\n",
              "      <td>positive</td>\n",
              "      <td>wants to hang out with friends SOON!</td>\n",
              "    </tr>\n",
              "    <tr>\n",
              "      <th>4</th>\n",
              "      <td>1956968416</td>\n",
              "      <td>neutral</td>\n",
              "      <td>xkilljoyx</td>\n",
              "      <td>We want to trade with someone who has Houston tickets, but no one will.</td>\n",
              "      <td>@dannycastillo We want to trade with someone who has Houston tickets, but no one will.</td>\n",
              "      <td>82565a56d3</td>\n",
              "      <td>neutral</td>\n",
              "      <td>We want to trade with someone who has Houston tickets, but no one will.</td>\n",
              "    </tr>\n",
              "  </tbody>\n",
              "</table>\n",
              "</div>"
            ],
            "text/plain": [
              "       textID   sentiment       author  \\\n",
              "0  1956967341       empty   xoshayzers   \n",
              "1  1956967666     sadness    wannamama   \n",
              "2  1956967696     sadness    coolfunky   \n",
              "3  1956967789  enthusiasm  czareaquino   \n",
              "4  1956968416     neutral    xkilljoyx   \n",
              "\n",
              "                                                                                text  \\\n",
              "0   i know  i was listenin to bad habit earlier and i started freakin at his part =[   \n",
              "1                       Layin n bed with a headache  ughhhh...waitin on your call...   \n",
              "2                                                Funeral ceremony...gloomy friday...   \n",
              "3                                               wants to hang out with friends SOON!   \n",
              "4            We want to trade with someone who has Houston tickets, but no one will.   \n",
              "\n",
              "                                                                                       old_text  \\\n",
              "0  @tiffanylue i know  i was listenin to bad habit earlier and i started freakin at his part =[   \n",
              "1                                  Layin n bed with a headache  ughhhh...waitin on your call...   \n",
              "2                                                           Funeral ceremony...gloomy friday...   \n",
              "3                                                          wants to hang out with friends SOON!   \n",
              "4        @dannycastillo We want to trade with someone who has Houston tickets, but no one will.   \n",
              "\n",
              "        aux_id new_sentiment  \\\n",
              "0  p1000000000           NaN   \n",
              "1   c811396dc2      negative   \n",
              "2   9063631ab1      negative   \n",
              "3   2a815f151d      positive   \n",
              "4   82565a56d3       neutral   \n",
              "\n",
              "                                                             selected_text  \n",
              "0                                                                      NaN  \n",
              "1                                                                 headache  \n",
              "2                                                                   gloomy  \n",
              "3                                     wants to hang out with friends SOON!  \n",
              "4  We want to trade with someone who has Houston tickets, but no one will.  "
            ]
          },
          "metadata": {},
          "execution_count": 10
        }
      ]
    },
    {
      "cell_type": "markdown",
      "metadata": {
        "id": "d8lE8jThWhj4"
      },
      "source": [
        "We only need the \"text\" column?"
      ]
    },
    {
      "cell_type": "code",
      "metadata": {
        "id": "fky5--ZJWF0z"
      },
      "source": [
        "# tweets_df.describe() #Dataset stats of numerical columns"
      ],
      "execution_count": null,
      "outputs": []
    },
    {
      "cell_type": "markdown",
      "metadata": {
        "id": "qWa2x3vzVu3K"
      },
      "source": [
        "# List of Columns"
      ]
    },
    {
      "cell_type": "code",
      "metadata": {
        "id": "uRccg_vlalN8",
        "colab": {
          "base_uri": "https://localhost:8080/"
        },
        "outputId": "2eb5ff03-0c8e-46d6-fa6d-fd5f75f642e0"
      },
      "source": [
        "list(tweets.columns)"
      ],
      "execution_count": null,
      "outputs": [
        {
          "output_type": "execute_result",
          "data": {
            "text/plain": [
              "['textID',\n",
              " 'sentiment',\n",
              " 'author',\n",
              " 'text',\n",
              " 'old_text',\n",
              " 'aux_id',\n",
              " 'new_sentiment',\n",
              " 'selected_text']"
            ]
          },
          "metadata": {},
          "execution_count": 12
        }
      ]
    },
    {
      "cell_type": "code",
      "metadata": {
        "colab": {
          "base_uri": "https://localhost:8080/"
        },
        "id": "xgbKQN3MOiBX",
        "outputId": "412bfd10-f089-4d2f-fd63-ae3002457013"
      },
      "source": [
        "list(vax_tweets.columns)"
      ],
      "execution_count": null,
      "outputs": [
        {
          "output_type": "execute_result",
          "data": {
            "text/plain": [
              "['id',\n",
              " 'user_name',\n",
              " 'user_location',\n",
              " 'user_description',\n",
              " 'user_created',\n",
              " 'user_followers',\n",
              " 'user_friends',\n",
              " 'user_favourites',\n",
              " 'user_verified',\n",
              " 'date',\n",
              " 'text',\n",
              " 'hashtags',\n",
              " 'source',\n",
              " 'retweets',\n",
              " 'favorites',\n",
              " 'is_retweet']"
            ]
          },
          "metadata": {},
          "execution_count": 13
        }
      ]
    },
    {
      "cell_type": "markdown",
      "metadata": {
        "id": "uQY6B9LuXaeT"
      },
      "source": [
        "# Text Preprocessing\n",
        "* Tokenization\n",
        "* Numericalization\n",
        "* Language model data loader creation\n",
        "* Language model creation"
      ]
    },
    {
      "cell_type": "markdown",
      "metadata": {
        "id": "shc3Di1ZXehq"
      },
      "source": [
        "## Tokenization"
      ]
    },
    {
      "cell_type": "code",
      "metadata": {
        "id": "GrJfQ7JuY-6b"
      },
      "source": [
        "from fastai.text.all import *"
      ],
      "execution_count": null,
      "outputs": []
    },
    {
      "cell_type": "code",
      "metadata": {
        "id": "qPx4JUpYQ-Uy"
      },
      "source": [
        ""
      ],
      "execution_count": null,
      "outputs": []
    },
    {
      "cell_type": "markdown",
      "metadata": {
        "id": "rmnnJKsRQ-7j"
      },
      "source": [
        "## Functions for preprocessing"
      ]
    },
    {
      "cell_type": "code",
      "metadata": {
        "id": "Mm1Eh_2pbRVT"
      },
      "source": [
        "# Code via https://www.kaggle.com/garyongguanjie/comments-analysis\n",
        "\n",
        "def de_emojify(inputString): #What does it do???????????\n",
        "    return inputString.encode('ascii', 'ignore').decode('ascii') \n",
        "\n",
        "# Code via https://www.kaggle.com/pawanbhandarkar/generate-smarter-word-clouds-with-log-likelihood\n",
        "\n",
        "def tweet_proc(df, text_col='text'):#removing handles, urls, hashtags\n",
        "#always the name of \"text_col\" should be \"text\"\n",
        "\n",
        "    df['orig_text'] = df[text_col]#making a new col named \"orig_text\"\n",
        "\n",
        "    # Remove twitter handles\n",
        "    df[text_col] = df[text_col].apply(lambda x:re.sub('@[^\\s]+','',x))\n",
        "\n",
        "    # Remove URLs\n",
        "    df[text_col] = df[text_col].apply(lambda x:re.sub(r\"http\\S+\", \"\", x))\n",
        "\n",
        "    # Remove emojis\n",
        "    df[text_col] = df[text_col].apply(de_emojify)#where is de_emojify func comming from???????\n",
        "\n",
        "    # Remove hashtags\n",
        "    df[text_col] = df[text_col].apply(lambda x:re.sub(r'\\B#\\S+','',x))\n",
        "\n",
        "    return df[df[text_col]!='']#removing rows with blank tweets\n",
        "\n"
      ],
      "execution_count": null,
      "outputs": []
    },
    {
      "cell_type": "markdown",
      "metadata": {
        "id": "e4F20Eb7RGrN"
      },
      "source": [
        "## preprocessing\n",
        "### Clean the text col of both dataset and matching their text and sentiment columns"
      ]
    },
    {
      "cell_type": "code",
      "metadata": {
        "id": "8Gygl2Mpg6iG"
      },
      "source": [
        "\n",
        "#Making a new tweets dataframe out of \"text\" and \"sentiment\" columns \n",
        "tweets = tweets[['old_text', 'new_sentiment']].rename(columns={'old_text':'text', 'new_sentiment':'sentiment'}) \n",
        "\n",
        "#vax_tweets doesnt have sentiment col, so we assign nan to be able to append it to tweets df later\n",
        "vax_tweets['sentiment'] = np.nan \n",
        "\n",
        "#cleaning tweets df using cleaning func above\n",
        "tweets = tweet_proc(tweets)\n",
        "\n",
        "#cleaning vax_tweets df using cleaning func above\n",
        "vax_tweets = tweet_proc(vax_tweets) \n"
      ],
      "execution_count": null,
      "outputs": []
    },
    {
      "cell_type": "markdown",
      "metadata": {
        "id": "rL-dnUfGVTmP"
      },
      "source": [
        "## combine the dfs"
      ]
    },
    {
      "cell_type": "code",
      "metadata": {
        "colab": {
          "base_uri": "https://localhost:8080/"
        },
        "id": "M1M3I7EkU33_",
        "outputId": "4c660b4f-c125-440e-cecb-bc4d5d8144a0"
      },
      "source": [
        "#combining two (tweets and vax_tweets) dataframes into df_lm\n",
        "df_lm = tweets[['text', 'sentiment']].append(vax_tweets[['text', 'sentiment']])\n",
        "\n",
        "#Dropping all rows with no sentiment (all vax_tweets and some of tweets)\n",
        "df_clas = df_lm.dropna(subset=['sentiment']) \n",
        "\n",
        "# Length of combined dataset and non-nan dataset\n",
        "print(len(df_lm), len(df_clas))"
      ],
      "execution_count": null,
      "outputs": [
        {
          "output_type": "stream",
          "name": "stdout",
          "text": [
            "252905 31323\n"
          ]
        }
      ]
    },
    {
      "cell_type": "code",
      "metadata": {
        "id": "72i6zIyhoNbL",
        "colab": {
          "base_uri": "https://localhost:8080/",
          "height": 206
        },
        "outputId": "b77c4cc8-319a-4f0d-9a86-f8266d4a49bd"
      },
      "source": [
        "tweets.head()"
      ],
      "execution_count": null,
      "outputs": [
        {
          "output_type": "execute_result",
          "data": {
            "text/html": [
              "<div>\n",
              "<style scoped>\n",
              "    .dataframe tbody tr th:only-of-type {\n",
              "        vertical-align: middle;\n",
              "    }\n",
              "\n",
              "    .dataframe tbody tr th {\n",
              "        vertical-align: top;\n",
              "    }\n",
              "\n",
              "    .dataframe thead th {\n",
              "        text-align: right;\n",
              "    }\n",
              "</style>\n",
              "<table border=\"1\" class=\"dataframe\">\n",
              "  <thead>\n",
              "    <tr style=\"text-align: right;\">\n",
              "      <th></th>\n",
              "      <th>text</th>\n",
              "      <th>sentiment</th>\n",
              "      <th>orig_text</th>\n",
              "    </tr>\n",
              "  </thead>\n",
              "  <tbody>\n",
              "    <tr>\n",
              "      <th>0</th>\n",
              "      <td>i know  i was listenin to bad habit earlier and i started freakin at his part =[</td>\n",
              "      <td>NaN</td>\n",
              "      <td>@tiffanylue i know  i was listenin to bad habit earlier and i started freakin at his part =[</td>\n",
              "    </tr>\n",
              "    <tr>\n",
              "      <th>1</th>\n",
              "      <td>Layin n bed with a headache  ughhhh...waitin on your call...</td>\n",
              "      <td>negative</td>\n",
              "      <td>Layin n bed with a headache  ughhhh...waitin on your call...</td>\n",
              "    </tr>\n",
              "    <tr>\n",
              "      <th>2</th>\n",
              "      <td>Funeral ceremony...gloomy friday...</td>\n",
              "      <td>negative</td>\n",
              "      <td>Funeral ceremony...gloomy friday...</td>\n",
              "    </tr>\n",
              "    <tr>\n",
              "      <th>3</th>\n",
              "      <td>wants to hang out with friends SOON!</td>\n",
              "      <td>positive</td>\n",
              "      <td>wants to hang out with friends SOON!</td>\n",
              "    </tr>\n",
              "    <tr>\n",
              "      <th>4</th>\n",
              "      <td>We want to trade with someone who has Houston tickets, but no one will.</td>\n",
              "      <td>neutral</td>\n",
              "      <td>@dannycastillo We want to trade with someone who has Houston tickets, but no one will.</td>\n",
              "    </tr>\n",
              "  </tbody>\n",
              "</table>\n",
              "</div>"
            ],
            "text/plain": [
              "                                                                                text  \\\n",
              "0   i know  i was listenin to bad habit earlier and i started freakin at his part =[   \n",
              "1                       Layin n bed with a headache  ughhhh...waitin on your call...   \n",
              "2                                                Funeral ceremony...gloomy friday...   \n",
              "3                                               wants to hang out with friends SOON!   \n",
              "4            We want to trade with someone who has Houston tickets, but no one will.   \n",
              "\n",
              "  sentiment  \\\n",
              "0       NaN   \n",
              "1  negative   \n",
              "2  negative   \n",
              "3  positive   \n",
              "4   neutral   \n",
              "\n",
              "                                                                                      orig_text  \n",
              "0  @tiffanylue i know  i was listenin to bad habit earlier and i started freakin at his part =[  \n",
              "1                                  Layin n bed with a headache  ughhhh...waitin on your call...  \n",
              "2                                                           Funeral ceremony...gloomy friday...  \n",
              "3                                                          wants to hang out with friends SOON!  \n",
              "4        @dannycastillo We want to trade with someone who has Houston tickets, but no one will.  "
            ]
          },
          "metadata": {},
          "execution_count": 18
        }
      ]
    },
    {
      "cell_type": "markdown",
      "metadata": {
        "id": "8EjWE8UKWF_o"
      },
      "source": [
        "# Training Language Model"
      ]
    },
    {
      "cell_type": "markdown",
      "metadata": {
        "id": "C-GzZB0SWYLx"
      },
      "source": [
        "### converts our input data into a DataLoader object that can be used as an input to a fastai Learner"
      ]
    },
    {
      "cell_type": "code",
      "metadata": {
        "id": "XMwT1E9Ro8Vt",
        "colab": {
          "base_uri": "https://localhost:8080/",
          "height": 74
        },
        "outputId": "c72d334d-a5e0-4015-a5f9-91c66e0b6cac"
      },
      "source": [
        "dls_lm = TextDataLoaders.from_df(df_lm, text_col='text', is_lm=True, valid_pct=0.1)"
      ],
      "execution_count": null,
      "outputs": [
        {
          "output_type": "display_data",
          "data": {
            "text/html": [
              ""
            ],
            "text/plain": [
              "<IPython.core.display.HTML object>"
            ]
          },
          "metadata": {}
        },
        {
          "output_type": "stream",
          "name": "stderr",
          "text": [
            "/usr/local/lib/python3.7/dist-packages/numpy/core/_asarray.py:83: VisibleDeprecationWarning: Creating an ndarray from ragged nested sequences (which is a list-or-tuple of lists-or-tuples-or ndarrays with different lengths or shapes) is deprecated. If you meant to do this, you must specify 'dtype=object' when creating the ndarray\n",
            "  return array(a, dtype, copy=False, order=order)\n"
          ]
        }
      ]
    },
    {
      "cell_type": "code",
      "metadata": {
        "colab": {
          "base_uri": "https://localhost:8080/",
          "height": 181
        },
        "id": "sLcwLas3Ze-o",
        "outputId": "1db483d6-9f7e-4b4e-fb5f-89f389796dd0"
      },
      "source": [
        "# first two rows of the DataLoader using show_batch.\n",
        "dls_lm.show_batch(max_n=2)"
      ],
      "execution_count": null,
      "outputs": [
        {
          "output_type": "display_data",
          "data": {
            "text/html": [
              "<table border=\"1\" class=\"dataframe\">\n",
              "  <thead>\n",
              "    <tr style=\"text-align: right;\">\n",
              "      <th></th>\n",
              "      <th>text</th>\n",
              "      <th>text_</th>\n",
              "    </tr>\n",
              "  </thead>\n",
              "  <tbody>\n",
              "    <tr>\n",
              "      <th>0</th>\n",
              "      <td>xxbos xxmaj thanks to 4 approving to b used in emergency cases ! ! xxbos xxmaj pincode : 560085 \\n xxup covaxin - xxmaj dose 1 : 25 slots \\n\\n xxmaj age : 18 and above ( all xxmaj ages ) \\n xxmaj date : 20 xxmaj oct 2021 \\n xxmaj fees : 1050 \\n xxup rakshobhya xxbos - xxmaj awe ! i miss my baby xxbos xxmaj coronavirus worldwide : xxmaj</td>\n",
              "      <td>xxmaj thanks to 4 approving to b used in emergency cases ! ! xxbos xxmaj pincode : 560085 \\n xxup covaxin - xxmaj dose 1 : 25 slots \\n\\n xxmaj age : 18 and above ( all xxmaj ages ) \\n xxmaj date : 20 xxmaj oct 2021 \\n xxmaj fees : 1050 \\n xxup rakshobhya xxbos - xxmaj awe ! i miss my baby xxbos xxmaj coronavirus worldwide : xxmaj the</td>\n",
              "    </tr>\n",
              "    <tr>\n",
              "      <th>1</th>\n",
              "      <td>xxmaj fees : 1410 \\n xxup manipal xxup whitefield xxup covaxi xxbos - xxmaj hopefully he wo n't discover all of my soap opera tweets . xxbos xxmaj there 's another chance to &amp; &amp; get your xxup covid vaccination at in tomorrow with the xxbos [ xxunk ] 411007 , 06 - 08 - 2021 , 185 dose1 at xxup pmc p xxup apollo xxup clinic xxup aundh , xxup aundh</td>\n",
              "      <td>fees : 1410 \\n xxup manipal xxup whitefield xxup covaxi xxbos - xxmaj hopefully he wo n't discover all of my soap opera tweets . xxbos xxmaj there 's another chance to &amp; &amp; get your xxup covid vaccination at in tomorrow with the xxbos [ xxunk ] 411007 , 06 - 08 - 2021 , 185 dose1 at xxup pmc p xxup apollo xxup clinic xxup aundh , xxup aundh xxup</td>\n",
              "    </tr>\n",
              "  </tbody>\n",
              "</table>"
            ],
            "text/plain": [
              "<IPython.core.display.HTML object>"
            ]
          },
          "metadata": {}
        }
      ]
    },
    {
      "cell_type": "code",
      "metadata": {
        "id": "nRYp5RJ8US2T"
      },
      "source": [
        ""
      ],
      "execution_count": null,
      "outputs": []
    },
    {
      "cell_type": "markdown",
      "metadata": {
        "id": "RSHu2rK-bwg1"
      },
      "source": [
        ""
      ]
    },
    {
      "cell_type": "markdown",
      "metadata": {
        "id": "OEqaO7UAbwnm"
      },
      "source": [
        "# Fine-tuning the language model"
      ]
    },
    {
      "cell_type": "code",
      "metadata": {
        "colab": {
          "base_uri": "https://localhost:8080/",
          "height": 37
        },
        "id": "_zQFLtpZbyKE",
        "outputId": "3afaf45d-034e-4a5d-ba46-835b7dff7bdb"
      },
      "source": [
        "learn = language_model_learner(dls_lm, AWD_LSTM, drop_mult=0.3, metrics=[accuracy, Perplexity()]).to_fp16()"
      ],
      "execution_count": null,
      "outputs": [
        {
          "output_type": "display_data",
          "data": {
            "text/html": [
              "\n",
              "    <div>\n",
              "        <style>\n",
              "            /* Turns off some styling */\n",
              "            progress {\n",
              "                /* gets rid of default border in Firefox and Opera. */\n",
              "                border: none;\n",
              "                /* Needs to be in here for Safari polyfill so background images work as expected. */\n",
              "                background-size: auto;\n",
              "            }\n",
              "            .progress-bar-interrupted, .progress-bar-interrupted::-webkit-progress-bar {\n",
              "                background: #F44336;\n",
              "            }\n",
              "        </style>\n",
              "      <progress value='105070592' class='' max='105067061' style='width:300px; height:20px; vertical-align: middle;'></progress>\n",
              "      100.00% [105070592/105067061 00:01<00:00]\n",
              "    </div>\n",
              "    "
            ],
            "text/plain": [
              "<IPython.core.display.HTML object>"
            ]
          },
          "metadata": {}
        }
      ]
    },
    {
      "cell_type": "markdown",
      "metadata": {
        "id": "vyl2si1Zec-C"
      },
      "source": [
        "## Find optimum Learning Rate"
      ]
    },
    {
      "cell_type": "code",
      "metadata": {
        "id": "onKrQJuVdFq6"
      },
      "source": [
        "# learn.lr_find()"
      ],
      "execution_count": null,
      "outputs": []
    },
    {
      "cell_type": "markdown",
      "metadata": {
        "id": "s0BhCevogChd"
      },
      "source": [
        "So the opt lr is 1? What is the yello dot then ?"
      ]
    },
    {
      "cell_type": "markdown",
      "metadata": {
        "id": "54dAitSIiNQE"
      },
      "source": [
        "## Train for one epoch"
      ]
    },
    {
      "cell_type": "code",
      "metadata": {
        "colab": {
          "base_uri": "https://localhost:8080/",
          "height": 81
        },
        "id": "sAO_qXkIeZ5l",
        "outputId": "fb5f3910-9149-4837-9b08-28408b2b5240"
      },
      "source": [
        "learn.fit_one_cycle(1, 25e-4)"
      ],
      "execution_count": null,
      "outputs": [
        {
          "output_type": "display_data",
          "data": {
            "text/html": [
              "<table border=\"1\" class=\"dataframe\">\n",
              "  <thead>\n",
              "    <tr style=\"text-align: left;\">\n",
              "      <th>epoch</th>\n",
              "      <th>train_loss</th>\n",
              "      <th>valid_loss</th>\n",
              "      <th>accuracy</th>\n",
              "      <th>perplexity</th>\n",
              "      <th>time</th>\n",
              "    </tr>\n",
              "  </thead>\n",
              "  <tbody>\n",
              "    <tr>\n",
              "      <td>0</td>\n",
              "      <td>3.479322</td>\n",
              "      <td>3.418267</td>\n",
              "      <td>0.409437</td>\n",
              "      <td>30.516491</td>\n",
              "      <td>19:21</td>\n",
              "    </tr>\n",
              "  </tbody>\n",
              "</table>"
            ],
            "text/plain": [
              "<IPython.core.display.HTML object>"
            ]
          },
          "metadata": {}
        }
      ]
    },
    {
      "cell_type": "markdown",
      "metadata": {
        "id": "1lDy2PajiMKV"
      },
      "source": [
        "According to the lr diagram, if I choose valley point I am supposed to get a better accuracy?\n",
        "Using lr = 0.03 I got 0.439 accuracy. Using valley=0.0025 what would I achive? 0.409!!!!\n",
        "\n",
        "lr 0.1 leads to ???"
      ]
    },
    {
      "cell_type": "code",
      "metadata": {
        "colab": {
          "base_uri": "https://localhost:8080/",
          "height": 308
        },
        "id": "cnLeoH8_m8L-",
        "outputId": "162d0d9c-f8e3-4b10-93d5-489a886c4478"
      },
      "source": [
        "learn.unfreeze()\n",
        "learn.lr_find()"
      ],
      "execution_count": null,
      "outputs": [
        {
          "output_type": "display_data",
          "data": {
            "text/html": [
              ""
            ],
            "text/plain": [
              "<IPython.core.display.HTML object>"
            ]
          },
          "metadata": {}
        },
        {
          "output_type": "execute_result",
          "data": {
            "text/plain": [
              "SuggestedLRs(valley=0.0004786300996784121)"
            ]
          },
          "metadata": {},
          "execution_count": 23
        },
        {
          "output_type": "display_data",
          "data": {
            "image/png": "[encoded data removed]",
            "text/plain": [
              "<Figure size 432x288 with 1 Axes>"
            ]
          },
          "metadata": {
            "needs_background": "light"
          }
        }
      ]
    },
    {
      "cell_type": "code",
      "metadata": {
        "id": "Ylf9PRZxnpkH"
      },
      "source": [
        ""
      ],
      "execution_count": null,
      "outputs": []
    },
    {
      "cell_type": "code",
      "metadata": {
        "execution": {
          "iopub.execute_input": "2021-03-16T20:51:24.613011Z",
          "iopub.status.busy": "2021-03-16T20:51:24.600724Z",
          "iopub.status.idle": "2021-03-16T20:51:25.329994Z",
          "shell.execute_reply": "2021-03-16T20:51:25.330834Z"
        },
        "papermill": {
          "duration": 0.797527,
          "end_time": "2021-03-16T20:51:25.331099",
          "exception": false,
          "start_time": "2021-03-16T20:51:24.533572",
          "status": "completed"
        },
        "tags": [],
        "id": "vzz4syJzO8-D",
        "colab": {
          "base_uri": "https://localhost:8080/",
          "height": 54
        },
        "outputId": "92b0ce67-1b8d-4ac2-f47c-dc018e0147e3"
      },
      "source": [
        "# Text generation using the language model\n",
        "TEXT = \"I love\"\n",
        "N_WORDS = 30\n",
        "N_SENTENCES = 2\n",
        "print(\"\\n\".join(learn.predict(TEXT, N_WORDS, temperature=0.75) for _ in range(N_SENTENCES)))"
      ],
      "execution_count": null,
      "outputs": [
        {
          "output_type": "display_data",
          "data": {
            "text/html": [
              ""
            ],
            "text/plain": [
              "<IPython.core.display.HTML object>"
            ]
          },
          "metadata": {}
        },
        {
          "output_type": "display_data",
          "data": {
            "text/html": [
              ""
            ],
            "text/plain": [
              "<IPython.core.display.HTML object>"
            ]
          },
          "metadata": {}
        },
        {
          "output_type": "stream",
          "name": "stdout",
          "text": [
            "i love u too much ! ! I miss my love . Please I m happy that i can n't get my body Let me take\n",
            "i love the issue of family . i wish i had this one - bag … . a little bit !!! iii cacaca n'tn'tn't waitwaitwait tototo getgetget approvalapprovalapproval ininin thethethe\n"
          ]
        }
      ]
    },
    {
      "cell_type": "markdown",
      "metadata": {
        "id": "LiSXSGklH-fs"
      },
      "source": [
        "## save the model encoder so we can use it to fine-tune our classifier"
      ]
    },
    {
      "cell_type": "code",
      "metadata": {
        "id": "la1O9EOByd4h"
      },
      "source": [
        "learn.save_encoder('finetuned_lm')"
      ],
      "execution_count": null,
      "outputs": []
    },
    {
      "cell_type": "markdown",
      "metadata": {
        "id": "10R8mP1XIGQy"
      },
      "source": [
        ""
      ]
    },
    {
      "cell_type": "markdown",
      "metadata": {
        "papermill": {
          "duration": 0.065347,
          "end_time": "2021-03-16T20:51:25.927286",
          "exception": false,
          "start_time": "2021-03-16T20:51:25.861939",
          "status": "completed"
        },
        "tags": [],
        "id": "AhA_FYeJGKZ6"
      },
      "source": [
        "## Training a sentiment classifier"
      ]
    },
    {
      "cell_type": "code",
      "metadata": {
        "id": "fRG4JwJOH6dP"
      },
      "source": [
        ""
      ],
      "execution_count": null,
      "outputs": []
    }
  ]
}